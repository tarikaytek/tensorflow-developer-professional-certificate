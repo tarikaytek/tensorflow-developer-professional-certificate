{
  "nbformat": 4,
  "nbformat_minor": 0,
  "metadata": {
    "colab": {
      "provenance": [],
      "authorship_tag": "ABX9TyOl/sFU6eQowkqQBKNoD96e",
      "include_colab_link": true
    },
    "kernelspec": {
      "name": "python3",
      "display_name": "Python 3"
    },
    "language_info": {
      "name": "python"
    }
  },
  "cells": [
    {
      "cell_type": "markdown",
      "metadata": {
        "id": "view-in-github",
        "colab_type": "text"
      },
      "source": [
        "<a href=\"https://colab.research.google.com/github/tarikaytek/tensorflow-developer-professional-certificate/blob/main/C2W2_data-augmentation.ipynb\" target=\"_parent\"><img src=\"https://colab.research.google.com/assets/colab-badge.svg\" alt=\"Open In Colab\"/></a>"
      ]
    },
    {
      "cell_type": "code",
      "source": [
        "#getting datasets\n",
        "!wget https://storage.googleapis.com/tensorflow-1-public/course2/week3/horse-or-human.zip\n",
        "!wget https://storage.googleapis.com/tensorflow-1-public/course2/week3/validation-horse-or-human.zip\n"
      ],
      "metadata": {
        "colab": {
          "base_uri": "https://localhost:8080/"
        },
        "id": "6Nf8mYmovIIu",
        "outputId": "8640d9a7-233d-4c6e-ebd6-67fca4ee16c1"
      },
      "execution_count": null,
      "outputs": [
        {
          "output_type": "stream",
          "name": "stdout",
          "text": [
            "--2022-10-21 18:10:03--  https://storage.googleapis.com/tensorflow-1-public/course2/week3/horse-or-human.zip\n",
            "Resolving storage.googleapis.com (storage.googleapis.com)... 173.194.216.128, 173.194.217.128, 108.177.11.128, ...\n",
            "Connecting to storage.googleapis.com (storage.googleapis.com)|173.194.216.128|:443... connected.\n",
            "HTTP request sent, awaiting response... 200 OK\n",
            "Length: 149574867 (143M) [application/zip]\n",
            "Saving to: ‘horse-or-human.zip’\n",
            "\n",
            "horse-or-human.zip  100%[===================>] 142.65M   220MB/s    in 0.6s    \n",
            "\n",
            "2022-10-21 18:10:03 (220 MB/s) - ‘horse-or-human.zip’ saved [149574867/149574867]\n",
            "\n",
            "--2022-10-21 18:10:03--  https://storage.googleapis.com/tensorflow-1-public/course2/week3/validation-horse-or-human.zip\n",
            "Resolving storage.googleapis.com (storage.googleapis.com)... 173.194.216.128, 173.194.217.128, 108.177.11.128, ...\n",
            "Connecting to storage.googleapis.com (storage.googleapis.com)|173.194.216.128|:443... connected.\n",
            "HTTP request sent, awaiting response... 200 OK\n",
            "Length: 11480187 (11M) [application/zip]\n",
            "Saving to: ‘validation-horse-or-human.zip’\n",
            "\n",
            "validation-horse-or 100%[===================>]  10.95M  68.8MB/s    in 0.2s    \n",
            "\n",
            "2022-10-21 18:10:04 (68.8 MB/s) - ‘validation-horse-or-human.zip’ saved [11480187/11480187]\n",
            "\n"
          ]
        }
      ]
    },
    {
      "cell_type": "code",
      "source": [
        "import os\n",
        "import zipfile\n",
        "\n",
        "#extracting archives\n",
        "zip_ref = zipfile.ZipFile('./horse-or-human.zip', 'r')\n",
        "zip_ref.extractall('tmp/horse-or-human')\n",
        "\n",
        "zip_ref = zipfile.ZipFile('./validation-horse-or-human.zip', 'r')\n",
        "zip_ref.extractall('tmp/validation-horse-or-human')\n",
        "\n",
        "zip_ref.close()\n",
        "\n",
        "#directories for splitting\n",
        "train_horse_dir = os.path.join('tmp/horse-or-human/horses')\n",
        "train_human_dir = os.path.join('tmp/horse-or-human/humans')\n",
        "validation_horse_dir = os.path.join('tmp/validation-horse-or-human/horses')\n",
        "validation_human_dir = os.path.join('tmp/validation-horse-or-human/humans')"
      ],
      "metadata": {
        "id": "V900MaLOvNXy"
      },
      "execution_count": null,
      "outputs": []
    },
    {
      "cell_type": "code",
      "source": [
        "import tensorflow as tf\n",
        "from tensorflow.keras.optimizers import RMSprop\n",
        "\n",
        "#model\n",
        "model = tf.keras.models.Sequential([\n",
        "    tf.keras.layers.Conv2D(16, (3,3), activation='relu', input_shape=(300, 300, 3)),\n",
        "    tf.keras.layers.MaxPooling2D(2, 2),\n",
        "\n",
        "    tf.keras.layers.Conv2D(32, (3,3), activation='relu'),\n",
        "    tf.keras.layers.MaxPooling2D(2,2),\n",
        "\n",
        "    tf.keras.layers.Conv2D(64, (3,3), activation='relu'),\n",
        "    tf.keras.layers.MaxPooling2D(2,2),\n",
        "\n",
        "    tf.keras.layers.Flatten(),\n",
        "\n",
        "    tf.keras.layers.Dense(512, activation='relu'),\n",
        "\n",
        "    tf.keras.layers.Dense(1, activation='sigmoid')\n",
        "])\n",
        "\n",
        "model.compile(loss='binary_crossentropy',\n",
        "              optimizer=RMSprop(learning_rate=1e-4),\n",
        "              metrics=['accuracy'])"
      ],
      "metadata": {
        "id": "hqIcaHgJvZ28"
      },
      "execution_count": null,
      "outputs": []
    },
    {
      "cell_type": "code",
      "source": [
        "from tensorflow.keras.preprocessing.image import ImageDataGenerator\n",
        "\n",
        "train_datagen = ImageDataGenerator(\n",
        "      rescale=1./255,\n",
        "      rotation_range=40,\n",
        "      width_shift_range=0.2,\n",
        "      height_shift_range=0.2,\n",
        "      shear_range=0.2,\n",
        "      zoom_range=0.2,\n",
        "      horizontal_flip=True,\n",
        "      fill_mode='nearest')\n",
        "\n",
        "validation_datagen = ImageDataGenerator(rescale=1/255)\n",
        "\n",
        "train_generator = train_datagen.flow_from_directory(\n",
        "        'tmp/horse-or-human/',  \n",
        "        target_size=(300, 300),  \n",
        "        batch_size=128,\n",
        "        class_mode='binary')\n",
        "\n",
        "validation_generator = validation_datagen.flow_from_directory(\n",
        "        'tmp/validation-horse-or-human/', \n",
        "        target_size=(300, 300),  \n",
        "        batch_size=32,\n",
        "        class_mode='binary')"
      ],
      "metadata": {
        "colab": {
          "base_uri": "https://localhost:8080/"
        },
        "id": "ZIm2RQTQvsVl",
        "outputId": "6370c3a5-1abd-4a45-ed0c-77340db8fdda"
      },
      "execution_count": null,
      "outputs": [
        {
          "output_type": "stream",
          "name": "stdout",
          "text": [
            "Found 1027 images belonging to 2 classes.\n",
            "Found 256 images belonging to 2 classes.\n"
          ]
        }
      ]
    },
    {
      "cell_type": "code",
      "source": [
        "EPOCHS = 20\n",
        "\n",
        "history = model.fit(\n",
        "      train_generator,\n",
        "      steps_per_epoch=8,  \n",
        "      epochs=EPOCHS,\n",
        "      verbose=1,\n",
        "      validation_data = validation_generator,\n",
        "      validation_steps=8)"
      ],
      "metadata": {
        "colab": {
          "base_uri": "https://localhost:8080/"
        },
        "id": "XOcCJw82wreY",
        "outputId": "0e71f0a1-f65d-4b4b-ada7-6cb87978a4c7"
      },
      "execution_count": null,
      "outputs": [
        {
          "output_type": "stream",
          "name": "stdout",
          "text": [
            "Epoch 1/20\n",
            "8/8 [==============================] - 125s 15s/step - loss: 0.7260 - accuracy: 0.5339 - val_loss: 0.6585 - val_accuracy: 0.5039\n",
            "Epoch 2/20\n",
            "8/8 [==============================] - 110s 13s/step - loss: 0.7138 - accuracy: 0.5306 - val_loss: 0.6383 - val_accuracy: 0.5508\n",
            "Epoch 3/20\n",
            "8/8 [==============================] - 109s 13s/step - loss: 0.6535 - accuracy: 0.6285 - val_loss: 0.5965 - val_accuracy: 0.6133\n",
            "Epoch 4/20\n",
            "8/8 [==============================] - 110s 13s/step - loss: 0.6371 - accuracy: 0.6474 - val_loss: 1.1431 - val_accuracy: 0.5000\n",
            "Epoch 5/20\n",
            "8/8 [==============================] - 110s 13s/step - loss: 0.6166 - accuracy: 0.6552 - val_loss: 0.7958 - val_accuracy: 0.5273\n",
            "Epoch 6/20\n",
            "8/8 [==============================] - 112s 13s/step - loss: 0.5823 - accuracy: 0.6529 - val_loss: 1.0125 - val_accuracy: 0.5156\n",
            "Epoch 7/20\n",
            "8/8 [==============================] - 108s 15s/step - loss: 0.5522 - accuracy: 0.7063 - val_loss: 0.4704 - val_accuracy: 0.7695\n",
            "Epoch 8/20\n",
            "8/8 [==============================] - 110s 13s/step - loss: 0.5747 - accuracy: 0.6874 - val_loss: 1.2790 - val_accuracy: 0.5156\n",
            "Epoch 9/20\n",
            "8/8 [==============================] - 109s 13s/step - loss: 0.5136 - accuracy: 0.7620 - val_loss: 0.6014 - val_accuracy: 0.7070\n",
            "Epoch 10/20\n",
            "8/8 [==============================] - 109s 13s/step - loss: 0.4843 - accuracy: 0.7709 - val_loss: 0.8430 - val_accuracy: 0.6484\n",
            "Epoch 11/20\n",
            "8/8 [==============================] - 125s 15s/step - loss: 0.4493 - accuracy: 0.8037 - val_loss: 1.1520 - val_accuracy: 0.6133\n",
            "Epoch 12/20\n",
            "8/8 [==============================] - 110s 13s/step - loss: 0.4561 - accuracy: 0.7764 - val_loss: 1.0968 - val_accuracy: 0.6289\n",
            "Epoch 13/20\n",
            "8/8 [==============================] - 109s 13s/step - loss: 0.4403 - accuracy: 0.8087 - val_loss: 2.0375 - val_accuracy: 0.5391\n",
            "Epoch 14/20\n",
            "8/8 [==============================] - 108s 13s/step - loss: 0.3843 - accuracy: 0.8331 - val_loss: 1.3264 - val_accuracy: 0.6367\n",
            "Epoch 15/20\n",
            "8/8 [==============================] - 110s 13s/step - loss: 0.4247 - accuracy: 0.7953 - val_loss: 1.7929 - val_accuracy: 0.5898\n",
            "Epoch 16/20\n",
            "8/8 [==============================] - 111s 16s/step - loss: 0.3628 - accuracy: 0.8387 - val_loss: 2.5463 - val_accuracy: 0.5469\n",
            "Epoch 17/20\n",
            "8/8 [==============================] - 110s 13s/step - loss: 0.4204 - accuracy: 0.8042 - val_loss: 2.2628 - val_accuracy: 0.5547\n",
            "Epoch 18/20\n",
            "8/8 [==============================] - 109s 13s/step - loss: 0.3404 - accuracy: 0.8543 - val_loss: 0.7888 - val_accuracy: 0.7070\n",
            "Epoch 19/20\n",
            "8/8 [==============================] - 108s 13s/step - loss: 0.4140 - accuracy: 0.8254 - val_loss: 2.2153 - val_accuracy: 0.5586\n",
            "Epoch 20/20\n",
            "8/8 [==============================] - 114s 14s/step - loss: 0.3347 - accuracy: 0.8532 - val_loss: 1.8180 - val_accuracy: 0.5977\n"
          ]
        }
      ]
    },
    {
      "cell_type": "code",
      "source": [
        "import matplotlib.pyplot as plt\n",
        "\n",
        "# Plot the model results\n",
        "acc = history.history['accuracy']\n",
        "val_acc = history.history['val_accuracy']\n",
        "loss = history.history['loss']\n",
        "val_loss = history.history['val_loss']\n",
        "\n",
        "epochs = range(len(acc))\n",
        "\n",
        "plt.plot(epochs, acc, 'r', label='Training accuracy')\n",
        "plt.plot(epochs, val_acc, 'b', label='Validation accuracy')\n",
        "plt.title('Training and validation accuracy')\n",
        "\n",
        "plt.figure()\n",
        "\n",
        "plt.plot(epochs, loss, 'r', label='Training Loss')\n",
        "plt.plot(epochs, val_loss, 'b', label='Validation Loss')\n",
        "plt.title('Training and validation loss')\n",
        "plt.legend()\n",
        "\n",
        "plt.show()"
      ],
      "metadata": {
        "id": "D-F4ut7OwtD6"
      },
      "execution_count": null,
      "outputs": []
    }
  ]
}