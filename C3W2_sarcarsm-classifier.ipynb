{
  "nbformat": 4,
  "nbformat_minor": 0,
  "metadata": {
    "colab": {
      "provenance": [],
      "authorship_tag": "ABX9TyM4wEeqUDo3HEVy/FrvZ/hy",
      "include_colab_link": true
    },
    "kernelspec": {
      "name": "python3",
      "display_name": "Python 3"
    },
    "language_info": {
      "name": "python"
    },
    "accelerator": "GPU",
    "gpuClass": "standard"
  },
  "cells": [
    {
      "cell_type": "markdown",
      "metadata": {
        "id": "view-in-github",
        "colab_type": "text"
      },
      "source": [
        "<a href=\"https://colab.research.google.com/github/tarikaytek/tensorflow-developer-professional-certificate/blob/main/C3W2_sarcarsm-classifier.ipynb\" target=\"_parent\"><img src=\"https://colab.research.google.com/assets/colab-badge.svg\" alt=\"Open In Colab\"/></a>"
      ]
    },
    {
      "cell_type": "code",
      "source": [
        "!wget https://storage.googleapis.com/tensorflow-1-public/course3/sarcasm.json"
      ],
      "metadata": {
        "colab": {
          "base_uri": "https://localhost:8080/"
        },
        "id": "uvh6H6YY32XO",
        "outputId": "e482a029-6cb3-4dad-c4f1-7d76dd4d8153"
      },
      "execution_count": 2,
      "outputs": [
        {
          "output_type": "stream",
          "name": "stdout",
          "text": [
            "--2022-10-31 21:13:30--  https://storage.googleapis.com/tensorflow-1-public/course3/sarcasm.json\n",
            "Resolving storage.googleapis.com (storage.googleapis.com)... 173.194.79.128, 108.177.119.128, 108.177.126.128, ...\n",
            "Connecting to storage.googleapis.com (storage.googleapis.com)|173.194.79.128|:443... connected.\n",
            "HTTP request sent, awaiting response... 200 OK\n",
            "Length: 5643545 (5.4M) [application/json]\n",
            "Saving to: ‘sarcasm.json’\n",
            "\n",
            "\rsarcasm.json          0%[                    ]       0  --.-KB/s               \rsarcasm.json        100%[===================>]   5.38M  --.-KB/s    in 0.03s   \n",
            "\n",
            "2022-10-31 21:13:30 (192 MB/s) - ‘sarcasm.json’ saved [5643545/5643545]\n",
            "\n"
          ]
        }
      ]
    },
    {
      "cell_type": "code",
      "source": [
        "import json\n",
        "\n",
        "with open(\"./sarcasm.json\", 'r') as f:\n",
        "  datastore = json.load(f)\n",
        "\n",
        "sentences = []\n",
        "labels = []\n",
        "\n",
        "for item in datastore:\n",
        "  sentences.append(item['headline'])\n",
        "  labels.append(item['is_sarcastic'])\n",
        "\n",
        "len(sentences)"
      ],
      "metadata": {
        "colab": {
          "base_uri": "https://localhost:8080/"
        },
        "id": "-uRu4dXM33Gy",
        "outputId": "726a71f5-57dd-4df3-ed5b-97dcd4433eab"
      },
      "execution_count": 3,
      "outputs": [
        {
          "output_type": "execute_result",
          "data": {
            "text/plain": [
              "26709"
            ]
          },
          "metadata": {},
          "execution_count": 3
        }
      ]
    },
    {
      "cell_type": "code",
      "source": [
        "training_size = 2000\n",
        "vocab_size = 10000\n",
        "max_length = 32\n",
        "embedding_dim = 16\n",
        "\n",
        "training_sentences = sentences[0:training_size]\n",
        "testing_sentences = sentences[training_size:]\n",
        "\n",
        "training_labels = labels[0:training_size]\n",
        "testing_labels = labels[training_size:]"
      ],
      "metadata": {
        "id": "T3WkrQwV4ehf"
      },
      "execution_count": 4,
      "outputs": []
    },
    {
      "cell_type": "code",
      "source": [
        "import numpy as np\n",
        "from tensorflow.keras.preprocessing.text import Tokenizer\n",
        "from tensorflow.keras.preprocessing.sequence import pad_sequences\n",
        "\n",
        "trunc_type='post'\n",
        "padding_type='post'\n",
        "\n",
        "tokenizer = Tokenizer(num_words=vocab_size, oov_token=\"<UNK>\")\n",
        "\n",
        "tokenizer.fit_on_texts(sentences)\n",
        "word_index = tokenizer.word_index\n",
        "\n",
        "training_sequences = tokenizer.texts_to_sequences(training_sentences)\n",
        "training_padded = pad_sequences(training_sequences, maxlen=max_length, padding=padding_type, truncating=trunc_type)\n",
        "\n",
        "testing_sequences = tokenizer.texts_to_sequences(testing_sentences)\n",
        "testing_padded = pad_sequences(testing_sequences, maxlen=max_length, padding=padding_type, truncating=trunc_type)\n",
        "\n",
        "training_labels = np.array(training_labels)\n",
        "testing_labels = np.array(testing_labels)"
      ],
      "metadata": {
        "id": "Me4R1_Cq5Ci1"
      },
      "execution_count": 5,
      "outputs": []
    },
    {
      "cell_type": "code",
      "source": [
        "import tensorflow as tf\n",
        "\n",
        "model = tf.keras.Sequential([\n",
        "    tf.keras.layers.Embedding(vocab_size, embedding_dim, input_length=max_length),\n",
        "    tf.keras.layers.GlobalAveragePooling1D(),\n",
        "    tf.keras.layers.Dense(24, activation='relu'),\n",
        "    tf.keras.layers.Dense(1, activation='sigmoid')\n",
        "])\n",
        "\n",
        "model.summary()"
      ],
      "metadata": {
        "colab": {
          "base_uri": "https://localhost:8080/"
        },
        "id": "aQddW0TX52lP",
        "outputId": "5e534b08-a2ad-4de4-b7c8-23cd51a5bf38"
      },
      "execution_count": 6,
      "outputs": [
        {
          "output_type": "stream",
          "name": "stdout",
          "text": [
            "Model: \"sequential\"\n",
            "_________________________________________________________________\n",
            " Layer (type)                Output Shape              Param #   \n",
            "=================================================================\n",
            " embedding (Embedding)       (None, 32, 16)            160000    \n",
            "                                                                 \n",
            " global_average_pooling1d (G  (None, 16)               0         \n",
            " lobalAveragePooling1D)                                          \n",
            "                                                                 \n",
            " dense (Dense)               (None, 24)                408       \n",
            "                                                                 \n",
            " dense_1 (Dense)             (None, 1)                 25        \n",
            "                                                                 \n",
            "=================================================================\n",
            "Total params: 160,433\n",
            "Trainable params: 160,433\n",
            "Non-trainable params: 0\n",
            "_________________________________________________________________\n"
          ]
        }
      ]
    },
    {
      "cell_type": "code",
      "source": [
        "model.compile(loss='binary_crossentropy',optimizer='adam',metrics=['accuracy'])"
      ],
      "metadata": {
        "id": "mOvQXgeT6CfB"
      },
      "execution_count": 7,
      "outputs": []
    },
    {
      "cell_type": "code",
      "source": [
        "num_epochs = 30\n",
        "\n",
        "history = model.fit(training_padded, training_labels, epochs=num_epochs,\n",
        "                    validation_data=(testing_padded, testing_labels), verbose=2)"
      ],
      "metadata": {
        "colab": {
          "base_uri": "https://localhost:8080/"
        },
        "id": "TJexWjzO6E45",
        "outputId": "d7c85a38-4f0a-48c6-8290-a974798a640d"
      },
      "execution_count": 8,
      "outputs": [
        {
          "output_type": "stream",
          "name": "stdout",
          "text": [
            "Epoch 1/30\n",
            "63/63 - 4s - loss: 0.6889 - accuracy: 0.5470 - val_loss: 0.6845 - val_accuracy: 0.5613 - 4s/epoch - 66ms/step\n",
            "Epoch 2/30\n",
            "63/63 - 3s - loss: 0.6794 - accuracy: 0.5580 - val_loss: 0.6755 - val_accuracy: 0.5613 - 3s/epoch - 44ms/step\n",
            "Epoch 3/30\n",
            "63/63 - 3s - loss: 0.6596 - accuracy: 0.5765 - val_loss: 0.6557 - val_accuracy: 0.5952 - 3s/epoch - 44ms/step\n",
            "Epoch 4/30\n",
            "63/63 - 1s - loss: 0.6137 - accuracy: 0.7600 - val_loss: 0.6152 - val_accuracy: 0.7195 - 1s/epoch - 23ms/step\n",
            "Epoch 5/30\n",
            "63/63 - 3s - loss: 0.5329 - accuracy: 0.8805 - val_loss: 0.5597 - val_accuracy: 0.7882 - 3s/epoch - 44ms/step\n",
            "Epoch 6/30\n",
            "63/63 - 3s - loss: 0.4338 - accuracy: 0.9265 - val_loss: 0.5052 - val_accuracy: 0.7969 - 3s/epoch - 44ms/step\n",
            "Epoch 7/30\n",
            "63/63 - 3s - loss: 0.3387 - accuracy: 0.9425 - val_loss: 0.4664 - val_accuracy: 0.7996 - 3s/epoch - 44ms/step\n",
            "Epoch 8/30\n",
            "63/63 - 1s - loss: 0.2651 - accuracy: 0.9560 - val_loss: 0.4427 - val_accuracy: 0.8024 - 1s/epoch - 23ms/step\n",
            "Epoch 9/30\n",
            "63/63 - 1s - loss: 0.2081 - accuracy: 0.9685 - val_loss: 0.4322 - val_accuracy: 0.8000 - 1s/epoch - 24ms/step\n",
            "Epoch 10/30\n",
            "63/63 - 3s - loss: 0.1672 - accuracy: 0.9705 - val_loss: 0.4280 - val_accuracy: 0.8017 - 3s/epoch - 43ms/step\n",
            "Epoch 11/30\n",
            "63/63 - 1s - loss: 0.1338 - accuracy: 0.9800 - val_loss: 0.4286 - val_accuracy: 0.8019 - 1s/epoch - 23ms/step\n",
            "Epoch 12/30\n",
            "63/63 - 3s - loss: 0.1089 - accuracy: 0.9825 - val_loss: 0.4347 - val_accuracy: 0.8009 - 3s/epoch - 44ms/step\n",
            "Epoch 13/30\n",
            "63/63 - 1s - loss: 0.0903 - accuracy: 0.9875 - val_loss: 0.4434 - val_accuracy: 0.7984 - 1s/epoch - 23ms/step\n",
            "Epoch 14/30\n",
            "63/63 - 1s - loss: 0.0740 - accuracy: 0.9905 - val_loss: 0.4476 - val_accuracy: 0.7982 - 1s/epoch - 23ms/step\n",
            "Epoch 15/30\n",
            "63/63 - 1s - loss: 0.0621 - accuracy: 0.9925 - val_loss: 0.4555 - val_accuracy: 0.7960 - 1s/epoch - 23ms/step\n",
            "Epoch 16/30\n",
            "63/63 - 1s - loss: 0.0524 - accuracy: 0.9940 - val_loss: 0.4689 - val_accuracy: 0.7940 - 1s/epoch - 24ms/step\n",
            "Epoch 17/30\n",
            "63/63 - 3s - loss: 0.0443 - accuracy: 0.9940 - val_loss: 0.4786 - val_accuracy: 0.7907 - 3s/epoch - 44ms/step\n",
            "Epoch 18/30\n",
            "63/63 - 3s - loss: 0.0377 - accuracy: 0.9965 - val_loss: 0.4850 - val_accuracy: 0.7923 - 3s/epoch - 43ms/step\n",
            "Epoch 19/30\n",
            "63/63 - 3s - loss: 0.0323 - accuracy: 0.9965 - val_loss: 0.4955 - val_accuracy: 0.7902 - 3s/epoch - 44ms/step\n",
            "Epoch 20/30\n",
            "63/63 - 3s - loss: 0.0278 - accuracy: 0.9975 - val_loss: 0.5055 - val_accuracy: 0.7889 - 3s/epoch - 44ms/step\n",
            "Epoch 21/30\n",
            "63/63 - 3s - loss: 0.0240 - accuracy: 0.9980 - val_loss: 0.5150 - val_accuracy: 0.7905 - 3s/epoch - 45ms/step\n",
            "Epoch 22/30\n",
            "63/63 - 1s - loss: 0.0212 - accuracy: 0.9980 - val_loss: 0.5247 - val_accuracy: 0.7883 - 1s/epoch - 24ms/step\n",
            "Epoch 23/30\n",
            "63/63 - 3s - loss: 0.0184 - accuracy: 0.9985 - val_loss: 0.5351 - val_accuracy: 0.7872 - 3s/epoch - 44ms/step\n",
            "Epoch 24/30\n",
            "63/63 - 1s - loss: 0.0160 - accuracy: 0.9990 - val_loss: 0.5437 - val_accuracy: 0.7869 - 1s/epoch - 23ms/step\n",
            "Epoch 25/30\n",
            "63/63 - 1s - loss: 0.0142 - accuracy: 0.9995 - val_loss: 0.5542 - val_accuracy: 0.7878 - 1s/epoch - 23ms/step\n",
            "Epoch 26/30\n",
            "63/63 - 1s - loss: 0.0127 - accuracy: 1.0000 - val_loss: 0.5644 - val_accuracy: 0.7866 - 1s/epoch - 23ms/step\n",
            "Epoch 27/30\n",
            "63/63 - 3s - loss: 0.0113 - accuracy: 1.0000 - val_loss: 0.5740 - val_accuracy: 0.7841 - 3s/epoch - 43ms/step\n",
            "Epoch 28/30\n",
            "63/63 - 2s - loss: 0.0101 - accuracy: 1.0000 - val_loss: 0.5826 - val_accuracy: 0.7842 - 2s/epoch - 33ms/step\n",
            "Epoch 29/30\n",
            "63/63 - 2s - loss: 0.0091 - accuracy: 1.0000 - val_loss: 0.5904 - val_accuracy: 0.7840 - 2s/epoch - 24ms/step\n",
            "Epoch 30/30\n",
            "63/63 - 2s - loss: 0.0081 - accuracy: 1.0000 - val_loss: 0.5992 - val_accuracy: 0.7842 - 2s/epoch - 24ms/step\n"
          ]
        }
      ]
    },
    {
      "cell_type": "code",
      "source": [],
      "metadata": {
        "id": "DnLYrYGs6KIi"
      },
      "execution_count": null,
      "outputs": []
    }
  ]
}