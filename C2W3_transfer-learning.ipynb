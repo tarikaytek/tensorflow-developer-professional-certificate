{
  "nbformat": 4,
  "nbformat_minor": 0,
  "metadata": {
    "colab": {
      "provenance": [],
      "authorship_tag": "ABX9TyPNajRGJSHAtrW1zpwkPT//",
      "include_colab_link": true
    },
    "kernelspec": {
      "name": "python3",
      "display_name": "Python 3"
    },
    "language_info": {
      "name": "python"
    },
    "accelerator": "GPU"
  },
  "cells": [
    {
      "cell_type": "markdown",
      "metadata": {
        "id": "view-in-github",
        "colab_type": "text"
      },
      "source": [
        "<a href=\"https://colab.research.google.com/github/tarikaytek/tensorflow-developer-professional-certificate/blob/main/C2W3_transfer-learning.ipynb\" target=\"_parent\"><img src=\"https://colab.research.google.com/assets/colab-badge.svg\" alt=\"Open In Colab\"/></a>"
      ]
    },
    {
      "cell_type": "code",
      "execution_count": 1,
      "metadata": {
        "colab": {
          "base_uri": "https://localhost:8080/"
        },
        "id": "Q0n2HkcQirnV",
        "outputId": "112960f6-3d7e-4919-eeda-f6cf294c2488"
      },
      "outputs": [
        {
          "output_type": "stream",
          "name": "stdout",
          "text": [
            "--2022-10-27 17:37:05--  https://storage.googleapis.com/mledu-datasets/inception_v3_weights_tf_dim_ordering_tf_kernels_notop.h5\n",
            "Resolving storage.googleapis.com (storage.googleapis.com)... 142.250.153.128, 142.250.145.128, 173.194.69.128, ...\n",
            "Connecting to storage.googleapis.com (storage.googleapis.com)|142.250.153.128|:443... connected.\n",
            "HTTP request sent, awaiting response... 200 OK\n",
            "Length: 87910968 (84M) [application/x-hdf]\n",
            "Saving to: ‘/tmp/inception_v3_weights_tf_dim_ordering_tf_kernels_notop.h5’\n",
            "\n",
            "/tmp/inception_v3_w 100%[===================>]  83.84M  50.5MB/s    in 1.7s    \n",
            "\n",
            "2022-10-27 17:37:08 (50.5 MB/s) - ‘/tmp/inception_v3_weights_tf_dim_ordering_tf_kernels_notop.h5’ saved [87910968/87910968]\n",
            "\n"
          ]
        }
      ],
      "source": [
        "#downloading weights of the pretrained model for transfer learning\n",
        "\n",
        "!wget --no-check-certificate \\\n",
        "    https://storage.googleapis.com/mledu-datasets/inception_v3_weights_tf_dim_ordering_tf_kernels_notop.h5 \\\n",
        "    -O /tmp/inception_v3_weights_tf_dim_ordering_tf_kernels_notop.h5"
      ]
    },
    {
      "cell_type": "code",
      "source": [
        "from tensorflow.keras.applications.inception_v3 import InceptionV3\n",
        "from tensorflow.keras import layers\n",
        "\n",
        "local_weights_file = '/tmp/inception_v3_weights_tf_dim_ordering_tf_kernels_notop.h5'\n",
        "\n",
        "#initalizing model\n",
        "pre_trained_model = InceptionV3(input_shape = (150, 150, 3), \n",
        "                                include_top = False, \n",
        "                                weights = None)\n",
        "\n",
        "#loading weights\n",
        "pre_trained_model.load_weights(local_weights_file)\n",
        "\n",
        "#freezing layers\n",
        "for layer in pre_trained_model.layers:\n",
        "  layer.trainable = False"
      ],
      "metadata": {
        "id": "k21gFYK6d20x"
      },
      "execution_count": 2,
      "outputs": []
    },
    {
      "cell_type": "code",
      "source": [
        "pre_trained_model.summary()\n"
      ],
      "metadata": {
        "colab": {
          "base_uri": "https://localhost:8080/"
        },
        "id": "OZHhs8iMeG0R",
        "outputId": "3e1d2180-e6b2-4d80-a3e6-044318572bb5"
      },
      "execution_count": 3,
    {
      "cell_type": "code",
      "source": [
        "last_layer = pre_trained_model.get_layer('mixed7')\n",
        "print('last layer output shape: ', last_layer.output_shape)\n",
        "last_output = last_layer.output"
      ],
      "metadata": {
        "colab": {
          "base_uri": "https://localhost:8080/"
        },
        "id": "5w4AJc4oeKb7",
        "outputId": "5a097555-f217-42ea-f3e2-d930d29b120d"
      },
      "execution_count": 4,
      "outputs": [
        {
          "output_type": "stream",
          "name": "stdout",
          "text": [
            "last layer output shape:  (None, 7, 7, 768)\n"
          ]
        }
      ]
    },
    {
      "cell_type": "code",
      "source": [
        "from tensorflow.keras.optimizers import RMSprop\n",
        "from tensorflow.keras import Model\n",
        "\n",
        "X = layers.Flatten()(last_output)\n",
        "\n",
        "X = layers.Dense(1024, activation='relu')(X)\n",
        "\n",
        "X = layers.Dropout(0.2)(X)                  \n",
        "\n",
        "X = layers.Dense(1, activation='sigmoid')(X)\n",
        "\n",
        "model = Model(pre_trained_model.input, X) \n",
        "\n",
        "model.summary()"
      ],
      "metadata": {
        "colab": {
          "base_uri": "https://localhost:8080/"
        },
        "id": "lo3rTJB3fPGQ",
        "outputId": "3e30dc5c-d520-41f3-8603-db72751d67cc"
      },
      "execution_count": 5,
    {
      "cell_type": "code",
      "source": [
        "model.compile(optimizer = RMSprop(learning_rate=0.0001), \n",
        "              loss = 'binary_crossentropy', \n",
        "              metrics = ['accuracy'])"
      ],
      "metadata": {
        "id": "tyuJdbwdftbB"
      },
      "execution_count": 6,
      "outputs": []
    },
    {
      "cell_type": "code",
      "source": [
        "!wget https://storage.googleapis.com/tensorflow-1-public/course2/cats_and_dogs_filtered.zip\n"
      ],
      "metadata": {
        "colab": {
          "base_uri": "https://localhost:8080/"
        },
        "id": "lZQBKJuhfvxg",
        "outputId": "bf5c1e04-11a2-406a-8bdb-d726ee7d58a7"
      },
      "execution_count": 7,
      "outputs": [
        {
          "output_type": "stream",
          "name": "stdout",
          "text": [
            "--2022-10-27 17:37:19--  https://storage.googleapis.com/tensorflow-1-public/course2/cats_and_dogs_filtered.zip\n",
            "Resolving storage.googleapis.com (storage.googleapis.com)... 142.250.153.128, 142.250.145.128, 173.194.69.128, ...\n",
            "Connecting to storage.googleapis.com (storage.googleapis.com)|142.250.153.128|:443... connected.\n",
            "HTTP request sent, awaiting response... 200 OK\n",
            "Length: 68606236 (65M) [application/zip]\n",
            "Saving to: ‘cats_and_dogs_filtered.zip’\n",
            "\n",
            "cats_and_dogs_filte 100%[===================>]  65.43M  77.4MB/s    in 0.8s    \n",
            "\n",
            "2022-10-27 17:37:20 (77.4 MB/s) - ‘cats_and_dogs_filtered.zip’ saved [68606236/68606236]\n",
            "\n"
          ]
        }
      ]
    },
    {
      "cell_type": "code",
      "source": [
        "import os\n",
        "import zipfile\n",
        "from tensorflow.keras.preprocessing.image import ImageDataGenerator\n",
        "\n",
        "# Extract the archive\n",
        "zip_ref = zipfile.ZipFile(\"./cats_and_dogs_filtered.zip\", 'r')\n",
        "zip_ref.extractall(\"tmp/\")\n",
        "zip_ref.close()\n",
        "\n",
        "# Define our example directories and files\n",
        "base_dir = 'tmp/cats_and_dogs_filtered'\n",
        "\n",
        "train_dir = os.path.join( base_dir, 'train')\n",
        "validation_dir = os.path.join( base_dir, 'validation')\n",
        "\n",
        "# Directory with training cat pictures\n",
        "train_cats_dir = os.path.join(train_dir, 'cats') \n",
        "\n",
        "# Directory with training dog pictures\n",
        "train_dogs_dir = os.path.join(train_dir, 'dogs') \n",
        "\n",
        "# Directory with validation cat pictures\n",
        "validation_cats_dir = os.path.join(validation_dir, 'cats') \n",
        "\n",
        "# Directory with validation dog pictures\n",
        "validation_dogs_dir = os.path.join(validation_dir, 'dogs')\n",
        "\n",
        "# Add our data-augmentation parameters to ImageDataGenerator\n",
        "train_datagen = ImageDataGenerator(rescale = 1./255.,\n",
        "                                   rotation_range = 40,\n",
        "                                   width_shift_range = 0.2,\n",
        "                                   height_shift_range = 0.2,\n",
        "                                   shear_range = 0.2,\n",
        "                                   zoom_range = 0.2,\n",
        "                                   horizontal_flip = True)\n",
        "\n",
        "# Note that the validation data should not be augmented!\n",
        "test_datagen = ImageDataGenerator( rescale = 1.0/255. )\n",
        "\n",
        "# Flow training images in batches of 20 using train_datagen generator\n",
        "train_generator = train_datagen.flow_from_directory(train_dir,\n",
        "                                                    batch_size = 20,\n",
        "                                                    class_mode = 'binary', \n",
        "                                                    target_size = (150, 150))     \n",
        "\n",
        "# Flow validation images in batches of 20 using test_datagen generator\n",
        "validation_generator =  test_datagen.flow_from_directory( validation_dir,\n",
        "                                                          batch_size  = 20,\n",
        "                                                          class_mode  = 'binary', \n",
        "                                                          target_size = (150, 150))\n"
      ],
      "metadata": {
        "colab": {
          "base_uri": "https://localhost:8080/"
        },
        "id": "MPSRWo8rf2np",
        "outputId": "63d3345c-bc34-452c-ed21-c71b6f736262"
      },
      "execution_count": 8,
      "outputs": [
        {
          "output_type": "stream",
          "name": "stdout",
          "text": [
            "Found 2000 images belonging to 2 classes.\n",
            "Found 1000 images belonging to 2 classes.\n"
          ]
        }
      ]
    },
    {
      "cell_type": "code",
      "source": [
        "history = model.fit(\n",
        "            train_generator,\n",
        "            validation_data = validation_generator,\n",
        "            steps_per_epoch = 100,\n",
        "            epochs = 20,\n",
        "            validation_steps = 50,\n",
        "            verbose = 2)"
      ],
      "metadata": {
        "colab": {
          "base_uri": "https://localhost:8080/"
        },
        "id": "m6bXwgF-f6bi",
        "outputId": "02ed0a78-7c10-4722-f694-ada2ce52dfd5"
      },
      "execution_count": 9,
      "outputs": [
        {
          "output_type": "stream",
          "name": "stdout",
          "text": [
            "Epoch 1/20\n",
            "100/100 - 36s - loss: 0.3590 - accuracy: 0.8605 - val_loss: 0.1028 - val_accuracy: 0.9590 - 36s/epoch - 355ms/step\n",
            "Epoch 2/20\n",
            "100/100 - 19s - loss: 0.2327 - accuracy: 0.9075 - val_loss: 0.1145 - val_accuracy: 0.9560 - 19s/epoch - 186ms/step\n",
            "Epoch 3/20\n",
            "100/100 - 19s - loss: 0.1866 - accuracy: 0.9305 - val_loss: 0.1028 - val_accuracy: 0.9580 - 19s/epoch - 185ms/step\n",
            "Epoch 4/20\n",
            "100/100 - 18s - loss: 0.1895 - accuracy: 0.9295 - val_loss: 0.1162 - val_accuracy: 0.9580 - 18s/epoch - 185ms/step\n",
            "Epoch 5/20\n",
            "100/100 - 19s - loss: 0.1716 - accuracy: 0.9425 - val_loss: 0.1132 - val_accuracy: 0.9650 - 19s/epoch - 190ms/step\n",
            "Epoch 6/20\n",
            "100/100 - 18s - loss: 0.1836 - accuracy: 0.9380 - val_loss: 0.1172 - val_accuracy: 0.9640 - 18s/epoch - 182ms/step\n",
            "Epoch 7/20\n",
            "100/100 - 18s - loss: 0.1664 - accuracy: 0.9415 - val_loss: 0.1824 - val_accuracy: 0.9480 - 18s/epoch - 184ms/step\n",
            "Epoch 8/20\n",
            "100/100 - 18s - loss: 0.1602 - accuracy: 0.9475 - val_loss: 0.1179 - val_accuracy: 0.9710 - 18s/epoch - 185ms/step\n",
            "Epoch 9/20\n",
            "100/100 - 18s - loss: 0.1617 - accuracy: 0.9385 - val_loss: 0.1198 - val_accuracy: 0.9640 - 18s/epoch - 184ms/step\n",
            "Epoch 10/20\n",
            "100/100 - 18s - loss: 0.1432 - accuracy: 0.9475 - val_loss: 0.1140 - val_accuracy: 0.9680 - 18s/epoch - 183ms/step\n",
            "Epoch 11/20\n",
            "100/100 - 18s - loss: 0.1634 - accuracy: 0.9455 - val_loss: 0.1474 - val_accuracy: 0.9520 - 18s/epoch - 182ms/step\n",
            "Epoch 12/20\n",
            "100/100 - 18s - loss: 0.1612 - accuracy: 0.9450 - val_loss: 0.1147 - val_accuracy: 0.9650 - 18s/epoch - 182ms/step\n",
            "Epoch 13/20\n",
            "100/100 - 18s - loss: 0.1568 - accuracy: 0.9515 - val_loss: 0.1122 - val_accuracy: 0.9660 - 18s/epoch - 183ms/step\n",
            "Epoch 14/20\n",
            "100/100 - 18s - loss: 0.1479 - accuracy: 0.9485 - val_loss: 0.1812 - val_accuracy: 0.9520 - 18s/epoch - 184ms/step\n",
            "Epoch 15/20\n",
            "100/100 - 18s - loss: 0.1364 - accuracy: 0.9545 - val_loss: 0.1325 - val_accuracy: 0.9660 - 18s/epoch - 184ms/step\n",
            "Epoch 16/20\n",
            "100/100 - 18s - loss: 0.1351 - accuracy: 0.9520 - val_loss: 0.1301 - val_accuracy: 0.9620 - 18s/epoch - 184ms/step\n",
            "Epoch 17/20\n",
            "100/100 - 18s - loss: 0.1278 - accuracy: 0.9600 - val_loss: 0.1215 - val_accuracy: 0.9660 - 18s/epoch - 184ms/step\n",
            "Epoch 18/20\n",
            "100/100 - 19s - loss: 0.1309 - accuracy: 0.9595 - val_loss: 0.2570 - val_accuracy: 0.9450 - 19s/epoch - 186ms/step\n",
            "Epoch 19/20\n",
            "100/100 - 18s - loss: 0.1319 - accuracy: 0.9555 - val_loss: 0.1039 - val_accuracy: 0.9700 - 18s/epoch - 183ms/step\n",
            "Epoch 20/20\n",
            "100/100 - 18s - loss: 0.1110 - accuracy: 0.9590 - val_loss: 0.1259 - val_accuracy: 0.9710 - 18s/epoch - 182ms/step\n"
          ]
        }
      ]
    },
    {
      "cell_type": "code",
      "source": [
        "import matplotlib.pyplot as plt\n",
        "acc = history.history['accuracy']\n",
        "val_acc = history.history['val_accuracy']\n",
        "loss = history.history['loss']\n",
        "val_loss = history.history['val_loss']\n",
        "\n",
        "epochs = range(len(acc))\n",
        "\n",
        "plt.plot(epochs, acc, 'r', label='Training accuracy')\n",
        "plt.plot(epochs, val_acc, 'b', label='Validation accuracy')\n",
        "plt.title('Training and validation accuracy')\n",
        "plt.legend(loc=0)\n",
        "plt.figure()\n",
        "\n",
        "\n",
        "plt.show()"
      ],
      "metadata": {
        "colab": {
          "base_uri": "https://localhost:8080/",
          "height": 298
        },
        "id": "JruFJ5gif74t",
        "outputId": "e1b16c11-516c-4e56-b3c8-95f79e62bf5c"
      },
      "execution_count": 10,
      "outputs": [
        {
          "output_type": "display_data",
          "data": {
            "text/plain": [
              "<Figure size 432x288 with 1 Axes>"
            ],
            "image/png": "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\n"
          },
          "metadata": {
            "needs_background": "light"
          }
        },
        {
          "output_type": "display_data",
          "data": {
            "text/plain": [
              "<Figure size 432x288 with 0 Axes>"
            ]
          },
          "metadata": {}
        }
      ]
    }
  ]
}
